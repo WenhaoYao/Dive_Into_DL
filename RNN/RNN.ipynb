{
 "cells": [
  {
   "cell_type": "code",
   "execution_count": null,
   "source": [
    "import torch\n",
    "from torch import nn\n",
    "from torch.nn import functional as F\n",
    "from d2l import torch as d2l\n",
    "\n",
    "\n",
    "batch_size, num_steps = 32, 35\n",
    "train_iter, vocab = d2l.load_data_time_machine(batch_size, num_steps)"
   ],
   "outputs": [],
   "metadata": {}
  },
  {
   "cell_type": "code",
   "execution_count": 16,
   "source": [
    "num_hiddens = 256\n",
    "X = torch.rand(size=(num_steps, batch_size, len(vocab)))\n",
    "rnn_layer = nn.RNN(len(vocab), num_hiddens)\n",
    "state = torch.zeros((1, batch_size, num_hiddens))\n",
    "Y, state = rnn_layer(X, state)\n",
    "Y.reshape((-1, Y.shape[-1])).size()"
   ],
   "outputs": [
    {
     "output_type": "execute_result",
     "data": {
      "text/plain": [
       "<function Tensor.size>"
      ]
     },
     "metadata": {},
     "execution_count": 16
    }
   ],
   "metadata": {}
  },
  {
   "cell_type": "markdown",
   "source": [
    "### 定义输出层"
   ],
   "metadata": {}
  },
  {
   "cell_type": "code",
   "execution_count": null,
   "source": [
    "class RNNModel(nn.Module):\n",
    "    def __init__(self, rnn_layer, vocab_size, **kargs):\n",
    "        super(RNNModel, self).__init__(**kargs)\n",
    "        self.rnn = rnn_layer\n",
    "        self.vocab_size = vocab_size\n",
    "        self.num_hiddens = self.rnn.hidden_size\n",
    "        if not self.rnn.bidirectional:\n",
    "            self.num_directions = 1\n",
    "            self.linear = nn.Linear(self.num_hiddens, self.vocab_size)\n",
    "        else:\n",
    "            self.num_directions = 2\n",
    "            self.linear = nn.Linear(self.num_hiddens * 2, self.vocab_size)\n",
    "\n",
    "    def forward(self, inputs, state):\n",
    "            X = F.one_hot(inputs.T.long(), self.vocab_size)\n",
    "            X = X.to(torch.float32)\n",
    "            Y, state = self.rnn(X, state)\n",
    "            output = self.linear(Y.reshape((-1, Y.shape[-1])))\n",
    "            return output, state\n",
    "\n",
    "    def begin_state(self, device, batch_size = 1):\n",
    "            if not isinstance(self.rnn, nn.LSTM):\n",
    "                return torch.zeros((self.num_directions * self.rnn.num_layers,\n",
    "                                    batch_size, self.num_hiddens), device=device)\n",
    "            else:\n",
    "                return (torch.zeros((self.num_directions * self.rnn.num_layers,\n",
    "                                    batch_size, self.num_hiddens), device=device),\n",
    "                                    torch.zeros((self.num_directions * self.rnn.num_layers,\n",
    "                                    batch_size, self.num_hiddens), device=device))"
   ],
   "outputs": [],
   "metadata": {}
  },
  {
   "cell_type": "code",
   "execution_count": null,
   "source": [
    "device = d2l.try_gpu(1)\n",
    "net = RNNModel(rnn_layer, vocab_size=len(vocab))\n",
    "net = net.to(device)\n",
    "d2l.predict_ch8('time traveller', 10, net, vocab, device)"
   ],
   "outputs": [],
   "metadata": {}
  },
  {
   "cell_type": "code",
   "execution_count": null,
   "source": [
    "epochs, lr = 500, 1\n",
    "d2l.train_ch8(net, train_iter, vocab, lr, epochs, device)"
   ],
   "outputs": [],
   "metadata": {}
  }
 ],
 "metadata": {
  "orig_nbformat": 4,
  "language_info": {
   "name": "python",
   "version": "3.8.10",
   "mimetype": "text/x-python",
   "codemirror_mode": {
    "name": "ipython",
    "version": 3
   },
   "pygments_lexer": "ipython3",
   "nbconvert_exporter": "python",
   "file_extension": ".py"
  },
  "kernelspec": {
   "name": "python3",
   "display_name": "Python 3.8.10 64-bit ('ywh_py38': conda)"
  },
  "interpreter": {
   "hash": "7fcae21b84a1fcd3ccbca3d458f9ae1ee1dc13fe83dd32a1c13e02bf1acb0ef7"
  }
 },
 "nbformat": 4,
 "nbformat_minor": 2
}