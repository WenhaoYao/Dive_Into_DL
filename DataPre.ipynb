{
 "cells": [
  {
   "cell_type": "code",
   "execution_count": null,
   "id": "462bfd4b",
   "metadata": {},
   "outputs": [],
   "source": [
    "import torch"
   ]
  },
  {
   "cell_type": "code",
   "execution_count": null,
   "id": "fb08e3cd",
   "metadata": {},
   "outputs": [],
   "source": [
    "x = torch.arange(12)\n",
    "x"
   ]
  },
  {
   "cell_type": "markdown",
   "id": "41970e6f",
   "metadata": {},
   "source": [
    "### 通过张量的shape属性访问张良的形状和张两种元素的总数"
   ]
  },
  {
   "cell_type": "code",
   "execution_count": null,
   "id": "3c8c9bf6",
   "metadata": {},
   "outputs": [],
   "source": [
    "x.shape\n",
    "x.numel()"
   ]
  },
  {
   "cell_type": "code",
   "execution_count": null,
   "id": "8f71832e",
   "metadata": {},
   "outputs": [],
   "source": [
    "X = x.reshape(3,4)\n",
    "X"
   ]
  },
  {
   "cell_type": "code",
   "execution_count": null,
   "id": "0b70e3b3",
   "metadata": {},
   "outputs": [],
   "source": [
    "torch.zeros((3,4))"
   ]
  },
  {
   "cell_type": "code",
   "execution_count": null,
   "id": "5f2cad60",
   "metadata": {},
   "outputs": [],
   "source": [
    "X = torch.arange(12,dtype = torch.float32).reshape((3, 4))\n",
    "Y = torch.tensor([[2.0, 1, 4,3],[1,2,3,4],[4,3,2,1]])\n",
    "torch.cat((X, Y),dim = 0),torch.cat((X,Y), dim = 1)"
   ]
  },
  {
   "cell_type": "markdown",
   "id": "92f251df",
   "metadata": {},
   "source": [
    "### 广播机制"
   ]
  },
  {
   "cell_type": "code",
   "execution_count": null,
   "id": "00f4e095",
   "metadata": {},
   "outputs": [],
   "source": [
    "a = torch.arange(3).reshape((3,1))\n",
    "b = torch.arange(2).reshape((1,2))\n",
    "a + b"
   ]
  },
  {
   "cell_type": "markdown",
   "id": "fce8b683",
   "metadata": {},
   "source": [
    "### 数据预处理"
   ]
  },
  {
   "cell_type": "code",
   "execution_count": null,
   "id": "c79e57d3",
   "metadata": {},
   "outputs": [],
   "source": [
    "import os\n",
    "os.makedirs(os.path.join('..','data'),exist_ok = True)\n",
    "data_file = os.path.join('..','data','house_tiny.csv')\n",
    "with open(data_file, 'w') as f:\n",
    "    f.write('NumRooms,Alley,Test,Price\\n') # 列名\n",
    "    f.write('NA,Pave,NA,127500\\n') # 每⾏表⽰⼀个数据样本\n",
    "    f.write('2,NA,1,106000\\n')\n",
    "    f.write('4,NA,NA,178100\\n')\n",
    "    f.write('NA,NA,1,140000\\n')"
   ]
  },
  {
   "cell_type": "code",
   "execution_count": null,
   "id": "1210b244",
   "metadata": {},
   "outputs": [],
   "source": [
    "import pandas as pd\n",
    "data = pd.read_csv(data_file)\n",
    "print(data)"
   ]
  },
  {
   "cell_type": "markdown",
   "id": "b2f2aac7",
   "metadata": {},
   "source": [
    "### 处理缺失值"
   ]
  },
  {
   "cell_type": "code",
   "execution_count": null,
   "id": "2c03b9ab",
   "metadata": {},
   "outputs": [],
   "source": [
    "inputs, outputs = data.iloc[:,0:2],data.iloc[:,2]\n",
    "inputs = inputs.fillna(inputs.mean())\n",
    "print(inputs)\n",
    "print(data.iloc[:])"
   ]
  },
  {
   "cell_type": "code",
   "execution_count": null,
   "id": "799eb5d9",
   "metadata": {},
   "outputs": [],
   "source": [
    "inputs = pd.get_dummies(inputs,dummy_na = True)\n",
    "print(inputs)"
   ]
  },
  {
   "cell_type": "code",
   "execution_count": null,
   "id": "110dd5d7",
   "metadata": {},
   "outputs": [],
   "source": [
    "X,y = torch.tensor(inputs.values),torch.tensor(outputs.values)\n",
    "X,y"
   ]
  },
  {
   "cell_type": "markdown",
   "id": "e29b4105",
   "metadata": {},
   "source": [
    "### 删除缺失值最多的列\n",
    "### 将预处理后的数据集转化为张量模式"
   ]
  },
  {
   "cell_type": "code",
   "execution_count": null,
   "metadata": {},
   "outputs": [],
   "source": [
    "data = pd.read_csv(data_file)\n",
    "print(data)"
   ]
  },
  {
   "cell_type": "code",
   "execution_count": null,
   "metadata": {},
   "outputs": [],
   "source": [
    "# 删除缺失值最多的列\n",
    "count = data.isna().sum()\n",
    "print(count.idxmax())\n",
    "data = data.drop(count.idxmax(),1)\n",
    "print(data)"
   ]
  },
  {
   "cell_type": "code",
   "execution_count": null,
   "metadata": {},
   "outputs": [],
   "source": [
    "# 将预处理后的数据集转化为张量模式\n",
    "torch.tensor(data.values)"
   ]
  }
 ],
 "metadata": {
  "kernelspec": {
   "name": "python3",
   "display_name": "Python 3.8.8 64-bit ('base': conda)"
  },
  "language_info": {
   "codemirror_mode": {
    "name": "ipython",
    "version": 3
   },
   "file_extension": ".py",
   "mimetype": "text/x-python",
   "name": "python",
   "nbconvert_exporter": "python",
   "pygments_lexer": "ipython3",
   "version": "3.8.8"
  },
  "interpreter": {
   "hash": "2e918aaa81d99c652401bdd1a0c185581595fb477ac919641bd65261b5d7782a"
  }
 },
 "nbformat": 4,
 "nbformat_minor": 5
}