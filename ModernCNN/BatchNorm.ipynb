{
 "metadata": {
  "language_info": {
   "codemirror_mode": {
    "name": "ipython",
    "version": 3
   },
   "file_extension": ".py",
   "mimetype": "text/x-python",
   "name": "python",
   "nbconvert_exporter": "python",
   "pygments_lexer": "ipython3",
   "version": "3.8.10"
  },
  "orig_nbformat": 4,
  "kernelspec": {
   "name": "python3",
   "display_name": "Python 3.8.10 64-bit ('d2l': conda)"
  },
  "interpreter": {
   "hash": "4eac56508231727220c31c43b40c5f47a06b529c4865115006b415545aec1389"
  }
 },
 "nbformat": 4,
 "nbformat_minor": 2,
 "cells": [
  {
   "cell_type": "code",
   "execution_count": null,
   "source": [
    "import torch\r\n",
    "from torch import nn\r\n",
    "from d2l import torch as d2l"
   ],
   "outputs": [],
   "metadata": {}
  },
  {
   "cell_type": "code",
   "execution_count": null,
   "source": [
    "def batch_norm(X, gamma, beta, moving_mean, moving_var, eps, momentum):\r\n",
    "    if not torch.is_grad_enabled():\r\n",
    "        X_hat = (X - moving_mean) / torch.sqrt(moving_var + eps)\r\n",
    "    else:\r\n",
    "        assert len(X.shape) in (2, 4)\r\n",
    "        if len(X.shape) == 2:\r\n",
    "            mean = X.mean(dim = 0)\r\n",
    "            var = ((X - mean) ** 2).mean(dim = 0)\r\n",
    "        else:\r\n",
    "            mean = X.mean(dim = (0, 2, 3))\r\n",
    "            var = ((X - mean) ** 2).mean(dim = (0, 2, 3))\r\n",
    "        X_hat = (X - mean) / torch.sqrt(var + eps)\r\n",
    "        moving_mean = momentum * mean + (1.0 - momentum) * moving_mean\r\n",
    "        moving_var = momentum * var + (1.0 - momentum) * moving_var\r\n",
    "    Y = gamma * X_hat + beta\r\n",
    "    return Y, moving_mean.data, moving_var.data"
   ],
   "outputs": [],
   "metadata": {}
  },
  {
   "cell_type": "code",
   "execution_count": null,
   "source": [
    "class BatchNorm(nn.Module):\r\n",
    "    # num_features:全连接层输出数量或卷积层输出的通道数\r\n",
    "    # num_dims：'2'为全连接，'4'为卷积层\r\n",
    "    def __init__(self, num_features, num_dims):\r\n",
    "        super().__init__()\r\n",
    "        if num_dims == 2:\r\n",
    "            shape = (1, num_features)\r\n",
    "        else:\r\n",
    "            shape = (1, num_features, 1, 1)\r\n",
    "        self.gamma = nn.Parameter(torch.ones(shape))\r\n",
    "        self.beta = nn.Parameter(torch.zeros(shape))\r\n",
    "        self.moving_mean = torch.ones(shape)\r\n",
    "        self.moving_var = torch.zeros(shape)\r\n",
    "    \r\n",
    "    def forward(self, X):\r\n",
    "        if self.moving_mean.device != X.device:\r\n",
    "            self.moving_mean = self.moving_mean.to(X.device)\r\n",
    "            self.moving_var = self.moving_var.to(X.device)\r\n",
    "        Y, self.gamma, self.beta = batch_norm(X, self.gamma, self.beta, self.moving_mean, self.moving_var,eps = 1e-5, momentum=0.9)\r\n",
    "        return Y"
   ],
   "outputs": [],
   "metadata": {}
  },
  {
   "cell_type": "code",
   "execution_count": null,
   "source": [
    "net = nn.Sequential(nn.Conv2d(1, 6, kernel_size=5), BatchNorm(6, num_dims=4),\r\n",
    "                    nn.Sigmoid(), nn.MaxPool2d(kernel_size=2, stride=2),\r\n",
    "                    nn.Conv2d(6, 16,\r\n",
    "                              kernel_size=5), BatchNorm(16, num_dims=4),\r\n",
    "                    nn.Sigmoid(), nn.MaxPool2d(kernel_size=2, stride=2),\r\n",
    "                    nn.Flatten(), nn.Linear(16 * 4 * 4, 120),\r\n",
    "                    BatchNorm(120, num_dims=2), nn.Sigmoid(),\r\n",
    "                    nn.Linear(120, 84), BatchNorm(84, num_dims=2),\r\n",
    "                    nn.Sigmoid(), nn.Linear(84, 10))"
   ],
   "outputs": [],
   "metadata": {}
  },
  {
   "cell_type": "code",
   "execution_count": null,
   "source": [
    "net = nn.Sequential(nn.Conv2d(1, 6, kernel_size=5), nn.BatchNorm2d(6),\r\n",
    "                    nn.Sigmoid(), nn.MaxPool2d(kernel_size=2, stride=2),\r\n",
    "                    nn.Conv2d(6, 16, kernel_size=5), nn.BatchNorm2d(16),\r\n",
    "                    nn.Sigmoid(), nn.MaxPool2d(kernel_size=2, stride=2),\r\n",
    "                    nn.Flatten(), nn.Linear(256, 120), nn.BatchNorm1d(120),\r\n",
    "                    nn.Sigmoid(), nn.Linear(120, 84), nn.BatchNorm1d(84),\r\n",
    "                    nn.Sigmoid(), nn.Linear(84, 10))\r\n",
    "lr, num_epochs, batch_size = 1.0, 10, 256\r\n",
    "train_iter, test_iter = d2l.load_data_fashion_mnist(batch_size)\r\n",
    "d2l.train_ch6(net, train_iter, test_iter, num_epochs, lr, d2l.try_gpu())"
   ],
   "outputs": [],
   "metadata": {}
  }
 ]
}