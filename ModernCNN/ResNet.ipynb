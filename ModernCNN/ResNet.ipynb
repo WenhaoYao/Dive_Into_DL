{
 "cells": [
  {
   "cell_type": "code",
   "execution_count": null,
   "source": [
    "import torch\r\n",
    "from torch import nn\r\n",
    "from d2l import torch as d2l\r\n",
    "from torch.nn import functional as F"
   ],
   "outputs": [],
   "metadata": {}
  },
  {
   "cell_type": "code",
   "execution_count": null,
   "source": [
    "class Residual(nn.Module):\r\n",
    "    def __init__(self, input_channels, num_channels, use_1x1conv=False, strides=1):\r\n",
    "        super().__init__()\r\n",
    "        self.conv1 = nn.Conv2d(input_channels, num_channels, kernel_size=3,padding=1, stride=strides)\r\n",
    "        self.conv2 = nn.Conv2d(num_channels, num_channels, kernel_size=3, padding=1)\r\n",
    "        if use_1x1conv:\r\n",
    "            self.conv3 = nn.Conv2d(input_channels, num_channels, kernel_size=1, stride=strides)\r\n",
    "        else:\r\n",
    "            self.conv3 = None\r\n",
    "        self.bn1 = nn.BatchNorm2d(num_channels)\r\n",
    "        self.bn2 = nn.BatchNorm2d(num_channels)\r\n",
    "        self.relu = nn.ReLU(inplace=True)\r\n",
    "\r\n",
    "    def forward(self, X):\r\n",
    "        Y = F.relu(self.bn1(self.conv1(X)))\r\n",
    "        Y = self.bn2(self.conv2(Y))\r\n",
    "        if self.conv3:\r\n",
    "            X = self.conv3(X)\r\n",
    "        Y += X\r\n",
    "        return F.relu(Y)"
   ],
   "outputs": [],
   "metadata": {}
  },
  {
   "cell_type": "code",
   "execution_count": null,
   "source": [
    "blk = Residual(3, 6, use_1x1conv=True, strides=2)\r\n",
    "X = torch.rand(4, 3, 6, 6)\r\n",
    "Y = blk(X)\r\n",
    "Y.shape"
   ],
   "outputs": [],
   "metadata": {}
  },
  {
   "cell_type": "code",
   "execution_count": null,
   "source": [
    "b1 = nn.Sequential(nn.Conv2d(1, 64, kernel_size=7, stride=2, padding=3),\r\n",
    "                   nn.BatchNorm2d(64), nn.ReLU(),\r\n",
    "                   nn.MaxPool2d(kernel_size=3, stride=2, padding=1))"
   ],
   "outputs": [],
   "metadata": {}
  },
  {
   "cell_type": "code",
   "execution_count": null,
   "source": [
    "def resnet_block(input_channels, num_channels, num_residuals,first_block = False):\r\n",
    "    blk = []\r\n",
    "    for i in range(num_residuals):\r\n",
    "        if i == 0 and not first_block:\r\n",
    "            blk.append(Residual(input_channels, num_channels, use_1x1conv=True,strides=2))\r\n",
    "        else:\r\n",
    "            blk.append(Residual(num_channels, num_channels))\r\n",
    "    return blk"
   ],
   "outputs": [],
   "metadata": {}
  },
  {
   "cell_type": "code",
   "execution_count": null,
   "source": [
    "b2 = nn.Sequential(*resnet_block(64, 64, 2, first_block=True))\r\n",
    "b3 = nn.Sequential(*resnet_block(64, 128, 2))\r\n",
    "b4 = nn.Sequential(*resnet_block(128, 256, 2))\r\n",
    "b5 = nn.Sequential(*resnet_block(256, 512, 2))\r\n",
    "net = nn.Sequential(b1, b2, b3, b4, b5, nn.AdaptiveAvgPool2d((1, 1)),\r\n",
    "                    nn.Flatten(), nn.Linear(512, 10))"
   ],
   "outputs": [],
   "metadata": {}
  },
  {
   "cell_type": "code",
   "execution_count": null,
   "source": [
    "X = torch.rand(size=(1, 1, 224, 224))\r\n",
    "for layer in net:\r\n",
    "    X = layer(X)\r\n",
    "    print(layer.__class__.__name__, 'output shape:\\t', X.shape)"
   ],
   "outputs": [],
   "metadata": {}
  },
  {
   "cell_type": "code",
   "execution_count": null,
   "source": [
    "lr, num_epochs, batch_size = 0.05, 10, 256\r\n",
    "train_iter, test_iter = d2l.load_data_fashion_mnist(batch_size, resize=96)\r\n",
    "d2l.train_ch6(net, train_iter, test_iter, num_epochs, lr, d2l.try_gpu())"
   ],
   "outputs": [],
   "metadata": {}
  }
 ],
 "metadata": {
  "orig_nbformat": 4,
  "language_info": {
   "name": "python",
   "version": "3.8.10",
   "mimetype": "text/x-python",
   "codemirror_mode": {
    "name": "ipython",
    "version": 3
   },
   "pygments_lexer": "ipython3",
   "nbconvert_exporter": "python",
   "file_extension": ".py"
  },
  "kernelspec": {
   "name": "python3",
   "display_name": "Python 3.8.10 64-bit ('d2l': conda)"
  },
  "interpreter": {
   "hash": "4eac56508231727220c31c43b40c5f47a06b529c4865115006b415545aec1389"
  }
 },
 "nbformat": 4,
 "nbformat_minor": 2
}