{
 "metadata": {
  "language_info": {
   "codemirror_mode": {
    "name": "ipython",
    "version": 3
   },
   "file_extension": ".py",
   "mimetype": "text/x-python",
   "name": "python",
   "nbconvert_exporter": "python",
   "pygments_lexer": "ipython3",
   "version": "3.8.10"
  },
  "orig_nbformat": 4,
  "kernelspec": {
   "name": "python3",
   "display_name": "Python 3.8.10 64-bit ('d2l': conda)"
  },
  "interpreter": {
   "hash": "4eac56508231727220c31c43b40c5f47a06b529c4865115006b415545aec1389"
  }
 },
 "nbformat": 4,
 "nbformat_minor": 2,
 "cells": [
  {
   "cell_type": "code",
   "execution_count": null,
   "source": [
    "import torch\r\n",
    "from torch import nn\r\n",
    "from torch.nn import functional as F\r\n",
    "from d2l import torch as d2l"
   ],
   "outputs": [],
   "metadata": {}
  },
  {
   "cell_type": "code",
   "execution_count": null,
   "source": [
    "class Inception(nn.Module):\r\n",
    "    def __init__(self, in_channels, c1, c2, c3, c4, **kwargs):\r\n",
    "        super(Inception, self).__init__(**kwargs)\r\n",
    "        self.p1_1 = nn.Conv2d(in_channels, c1, kernel_size=1)\r\n",
    "        self.p2_1 = nn.Conv2d(in_channels, c2[0], kernel_size=1)\r\n",
    "        self.p2_2 = nn.Conv2d(c2[0], c2[1], kernel_size=3, padding=1)\r\n",
    "        self.p3_1 = nn.Conv2d(in_channels, c3[0],kernel_size=1)\r\n",
    "        self.p3_2 = nn.Conv2d(c3[0], c3[1],kernel_size=5, padding=2)\r\n",
    "        self.p4_1 = nn.MaxPool2d(kernel_size = 3, stride=1, padding=1)\r\n",
    "        self.p4_2 = nn.Conv2d(in_channels, c4, kernel_size=1)\r\n",
    "\r\n",
    "    def forward(self, x):\r\n",
    "        p1 = F.relu(self.p1_1(x))\r\n",
    "        p2 = F.relu(self.p2_2(F.relu(self.p2_1(x))))\r\n",
    "        p3 = F.relu(self.p3_2(F.relu(self.p3_1(x))))\r\n",
    "        p4 = F.relu(self.p4_2(F.relu(self.p4_1(x))))\r\n",
    "        return torch.cat((p1, p2, p3, p4), dim = 1)"
   ],
   "outputs": [],
   "metadata": {}
  },
  {
   "cell_type": "code",
   "execution_count": null,
   "source": [
    "b1 = nn.Sequential(nn.Conv2d(1, 64, kernel_size=7, stride=2, padding=3),\r\n",
    "                   nn.ReLU(), nn.MaxPool2d(kernel_size=3, stride=2,padding=1))\r\n",
    "b2 = nn.Sequential(nn.Conv2d(64, 64, kernel_size=1), nn.ReLU(),\r\n",
    "                   nn.Conv2d(64, 192, kernel_size=3, padding=1),\r\n",
    "                   nn.MaxPool2d(kernel_size=3, stride=2, padding=1))\r\n",
    "b3 = nn.Sequential(Inception(192, 64, (96, 128), (16, 32), 32),\r\n",
    "                   Inception(256, 128, (128, 192), (32, 96), 64),\r\n",
    "                   nn.MaxPool2d(kernel_size=3, stride=2, padding=1))\r\n",
    "b4 = nn.Sequential(Inception(480, 192, (96, 208), (16, 48), 64),\r\n",
    "                   Inception(512, 160, (112, 224), (24, 64), 64),\r\n",
    "                   Inception(512, 128, (128, 256), (24, 64), 64),\r\n",
    "                   Inception(512, 112, (144, 288), (32, 64), 64),\r\n",
    "                   Inception(528, 256, (160, 320), (32, 128), 128),\r\n",
    "                   nn.MaxPool2d(kernel_size=3, stride=2, padding=1))\r\n",
    "b5 = nn.Sequential(Inception(832, 256, (160, 320), (32, 128), 128),\r\n",
    "                   Inception(832, 384, (192, 384), (48, 128), 128),\r\n",
    "                   nn.AdaptiveAvgPool2d((1, 1)), nn.Flatten())\r\n",
    "\r\n",
    "net = nn.Sequential(b1, b2, b3, b4, b5, nn.Linear(1024, 10))"
   ],
   "outputs": [],
   "metadata": {}
  },
  {
   "cell_type": "code",
   "execution_count": null,
   "source": [
    "X = torch.rand(size=(1, 1, 96, 96))\r\n",
    "for layer in net:\r\n",
    "    X = layer(X)\r\n",
    "    print(layer.__class__.__name__, 'output shape:\\t', X.shape)"
   ],
   "outputs": [],
   "metadata": {}
  }
 ]
}